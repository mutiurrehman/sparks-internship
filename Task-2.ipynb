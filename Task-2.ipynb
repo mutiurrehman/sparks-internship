{
 "cells": [
  {
   "cell_type": "markdown",
   "metadata": {},
   "source": [
    "# The Sparks Foundation\n",
    "# Task-2 :To Explore Supervised Machine Learning\n",
    "                      \n",
    "##                                                       Author - Mutiur Rehman Khan"
   ]
  },
  {
   "cell_type": "markdown",
   "metadata": {},
   "source": [
    "## Importing all the required libraries"
   ]
  },
  {
   "cell_type": "code",
   "execution_count": 2,
   "metadata": {},
   "outputs": [],
   "source": [
    "import pandas as pd\n",
    "import numpy as np  \n",
    "import matplotlib.pyplot as plt \n",
    "import seaborn as sns\n",
    "%matplotlib inline"
   ]
  },
  {
   "cell_type": "markdown",
   "metadata": {},
   "source": [
    "## Reading data from remote link"
   ]
  },
  {
   "cell_type": "code",
   "execution_count": 3,
   "metadata": {},
   "outputs": [
    {
     "name": "stdout",
     "output_type": "stream",
     "text": [
      "Data imported successfully\n",
      "Showing the first 10 lines \n"
     ]
    },
    {
     "data": {
      "text/html": [
       "<style  type=\"text/css\" >\n",
       "#T_a4fdf903_3b25_11eb_a3b7_98e7f4f73c3drow0_col0{\n",
       "            background-color:  #deee66;\n",
       "            color:  #000000;\n",
       "        }#T_a4fdf903_3b25_11eb_a3b7_98e7f4f73c3drow0_col1{\n",
       "            background-color:  #fcfe66;\n",
       "            color:  #000000;\n",
       "        }#T_a4fdf903_3b25_11eb_a3b7_98e7f4f73c3drow1_col0{\n",
       "            background-color:  #88c366;\n",
       "            color:  #000000;\n",
       "        }#T_a4fdf903_3b25_11eb_a3b7_98e7f4f73c3drow1_col1{\n",
       "            background-color:  #9acc66;\n",
       "            color:  #000000;\n",
       "        }#T_a4fdf903_3b25_11eb_a3b7_98e7f4f73c3drow2_col0{\n",
       "            background-color:  #c7e366;\n",
       "            color:  #000000;\n",
       "        }#T_a4fdf903_3b25_11eb_a3b7_98e7f4f73c3drow2_col1{\n",
       "            background-color:  #e5f266;\n",
       "            color:  #000000;\n",
       "        }#T_a4fdf903_3b25_11eb_a3b7_98e7f4f73c3drow3_col0{\n",
       "            background-color:  #178b66;\n",
       "            color:  #000000;\n",
       "        }#T_a4fdf903_3b25_11eb_a3b7_98e7f4f73c3drow3_col1{\n",
       "            background-color:  #309866;\n",
       "            color:  #000000;\n",
       "        }#T_a4fdf903_3b25_11eb_a3b7_98e7f4f73c3drow4_col0{\n",
       "            background-color:  #bdde66;\n",
       "            color:  #000000;\n",
       "        }#T_a4fdf903_3b25_11eb_a3b7_98e7f4f73c3drow4_col1{\n",
       "            background-color:  #daec66;\n",
       "            color:  #000000;\n",
       "        }#T_a4fdf903_3b25_11eb_a3b7_98e7f4f73c3drow5_col0,#T_a4fdf903_3b25_11eb_a3b7_98e7f4f73c3drow5_col1{\n",
       "            background-color:  #ffff66;\n",
       "            color:  #000000;\n",
       "        }#T_a4fdf903_3b25_11eb_a3b7_98e7f4f73c3drow6_col0,#T_a4fdf903_3b25_11eb_a3b7_98e7f4f73c3drow6_col1{\n",
       "            background-color:  #008066;\n",
       "            color:  #f1f1f1;\n",
       "        }#T_a4fdf903_3b25_11eb_a3b7_98e7f4f73c3drow7_col0{\n",
       "            background-color:  #7bbd66;\n",
       "            color:  #000000;\n",
       "        }#T_a4fdf903_3b25_11eb_a3b7_98e7f4f73c3drow7_col1{\n",
       "            background-color:  #69b466;\n",
       "            color:  #000000;\n",
       "        }#T_a4fdf903_3b25_11eb_a3b7_98e7f4f73c3drow8_col0{\n",
       "            background-color:  #1d8e66;\n",
       "            color:  #000000;\n",
       "        }#T_a4fdf903_3b25_11eb_a3b7_98e7f4f73c3drow8_col1{\n",
       "            background-color:  #1a8c66;\n",
       "            color:  #000000;\n",
       "        }#T_a4fdf903_3b25_11eb_a3b7_98e7f4f73c3drow9_col0{\n",
       "            background-color:  #d8ec66;\n",
       "            color:  #000000;\n",
       "        }#T_a4fdf903_3b25_11eb_a3b7_98e7f4f73c3drow9_col1{\n",
       "            background-color:  #edf666;\n",
       "            color:  #000000;\n",
       "        }</style><table id=\"T_a4fdf903_3b25_11eb_a3b7_98e7f4f73c3d\" ><thead>    <tr>        <th class=\"blank level0\" ></th>        <th class=\"col_heading level0 col0\" >Hours</th>        <th class=\"col_heading level0 col1\" >Scores</th>    </tr></thead><tbody>\n",
       "                <tr>\n",
       "                        <th id=\"T_a4fdf903_3b25_11eb_a3b7_98e7f4f73c3dlevel0_row0\" class=\"row_heading level0 row0\" >0</th>\n",
       "                        <td id=\"T_a4fdf903_3b25_11eb_a3b7_98e7f4f73c3drow0_col0\" class=\"data row0 col0\" >2.500000</td>\n",
       "                        <td id=\"T_a4fdf903_3b25_11eb_a3b7_98e7f4f73c3drow0_col1\" class=\"data row0 col1\" >21</td>\n",
       "            </tr>\n",
       "            <tr>\n",
       "                        <th id=\"T_a4fdf903_3b25_11eb_a3b7_98e7f4f73c3dlevel0_row1\" class=\"row_heading level0 row1\" >1</th>\n",
       "                        <td id=\"T_a4fdf903_3b25_11eb_a3b7_98e7f4f73c3drow1_col0\" class=\"data row1 col0\" >5.100000</td>\n",
       "                        <td id=\"T_a4fdf903_3b25_11eb_a3b7_98e7f4f73c3drow1_col1\" class=\"data row1 col1\" >47</td>\n",
       "            </tr>\n",
       "            <tr>\n",
       "                        <th id=\"T_a4fdf903_3b25_11eb_a3b7_98e7f4f73c3dlevel0_row2\" class=\"row_heading level0 row2\" >2</th>\n",
       "                        <td id=\"T_a4fdf903_3b25_11eb_a3b7_98e7f4f73c3drow2_col0\" class=\"data row2 col0\" >3.200000</td>\n",
       "                        <td id=\"T_a4fdf903_3b25_11eb_a3b7_98e7f4f73c3drow2_col1\" class=\"data row2 col1\" >27</td>\n",
       "            </tr>\n",
       "            <tr>\n",
       "                        <th id=\"T_a4fdf903_3b25_11eb_a3b7_98e7f4f73c3dlevel0_row3\" class=\"row_heading level0 row3\" >3</th>\n",
       "                        <td id=\"T_a4fdf903_3b25_11eb_a3b7_98e7f4f73c3drow3_col0\" class=\"data row3 col0\" >8.500000</td>\n",
       "                        <td id=\"T_a4fdf903_3b25_11eb_a3b7_98e7f4f73c3drow3_col1\" class=\"data row3 col1\" >75</td>\n",
       "            </tr>\n",
       "            <tr>\n",
       "                        <th id=\"T_a4fdf903_3b25_11eb_a3b7_98e7f4f73c3dlevel0_row4\" class=\"row_heading level0 row4\" >4</th>\n",
       "                        <td id=\"T_a4fdf903_3b25_11eb_a3b7_98e7f4f73c3drow4_col0\" class=\"data row4 col0\" >3.500000</td>\n",
       "                        <td id=\"T_a4fdf903_3b25_11eb_a3b7_98e7f4f73c3drow4_col1\" class=\"data row4 col1\" >30</td>\n",
       "            </tr>\n",
       "            <tr>\n",
       "                        <th id=\"T_a4fdf903_3b25_11eb_a3b7_98e7f4f73c3dlevel0_row5\" class=\"row_heading level0 row5\" >5</th>\n",
       "                        <td id=\"T_a4fdf903_3b25_11eb_a3b7_98e7f4f73c3drow5_col0\" class=\"data row5 col0\" >1.500000</td>\n",
       "                        <td id=\"T_a4fdf903_3b25_11eb_a3b7_98e7f4f73c3drow5_col1\" class=\"data row5 col1\" >20</td>\n",
       "            </tr>\n",
       "            <tr>\n",
       "                        <th id=\"T_a4fdf903_3b25_11eb_a3b7_98e7f4f73c3dlevel0_row6\" class=\"row_heading level0 row6\" >6</th>\n",
       "                        <td id=\"T_a4fdf903_3b25_11eb_a3b7_98e7f4f73c3drow6_col0\" class=\"data row6 col0\" >9.200000</td>\n",
       "                        <td id=\"T_a4fdf903_3b25_11eb_a3b7_98e7f4f73c3drow6_col1\" class=\"data row6 col1\" >88</td>\n",
       "            </tr>\n",
       "            <tr>\n",
       "                        <th id=\"T_a4fdf903_3b25_11eb_a3b7_98e7f4f73c3dlevel0_row7\" class=\"row_heading level0 row7\" >7</th>\n",
       "                        <td id=\"T_a4fdf903_3b25_11eb_a3b7_98e7f4f73c3drow7_col0\" class=\"data row7 col0\" >5.500000</td>\n",
       "                        <td id=\"T_a4fdf903_3b25_11eb_a3b7_98e7f4f73c3drow7_col1\" class=\"data row7 col1\" >60</td>\n",
       "            </tr>\n",
       "            <tr>\n",
       "                        <th id=\"T_a4fdf903_3b25_11eb_a3b7_98e7f4f73c3dlevel0_row8\" class=\"row_heading level0 row8\" >8</th>\n",
       "                        <td id=\"T_a4fdf903_3b25_11eb_a3b7_98e7f4f73c3drow8_col0\" class=\"data row8 col0\" >8.300000</td>\n",
       "                        <td id=\"T_a4fdf903_3b25_11eb_a3b7_98e7f4f73c3drow8_col1\" class=\"data row8 col1\" >81</td>\n",
       "            </tr>\n",
       "            <tr>\n",
       "                        <th id=\"T_a4fdf903_3b25_11eb_a3b7_98e7f4f73c3dlevel0_row9\" class=\"row_heading level0 row9\" >9</th>\n",
       "                        <td id=\"T_a4fdf903_3b25_11eb_a3b7_98e7f4f73c3drow9_col0\" class=\"data row9 col0\" >2.700000</td>\n",
       "                        <td id=\"T_a4fdf903_3b25_11eb_a3b7_98e7f4f73c3drow9_col1\" class=\"data row9 col1\" >25</td>\n",
       "            </tr>\n",
       "    </tbody></table>"
      ],
      "text/plain": [
       "<pandas.io.formats.style.Styler at 0x122db7f0>"
      ]
     },
     "execution_count": 3,
     "metadata": {},
     "output_type": "execute_result"
    }
   ],
   "source": [
    "url = \"http://bit.ly/w-data\"\n",
    "data = pd.read_csv(url)\n",
    "print(\"Data imported successfully\")\n",
    "print(\"Showing the first 10 lines \")\n",
    "data.head(10).style.background_gradient(cmap='summer_r')"
   ]
  },
  {
   "cell_type": "markdown",
   "metadata": {},
   "source": [
    "## Exploring the dataframe"
   ]
  },
  {
   "cell_type": "code",
   "execution_count": 5,
   "metadata": {},
   "outputs": [
    {
     "name": "stdout",
     "output_type": "stream",
     "text": [
      "<class 'pandas.core.frame.DataFrame'>\n",
      "RangeIndex: 25 entries, 0 to 24\n",
      "Data columns (total 2 columns):\n",
      " #   Column  Non-Null Count  Dtype  \n",
      "---  ------  --------------  -----  \n",
      " 0   Hours   25 non-null     float64\n",
      " 1   Scores  25 non-null     int64  \n",
      "dtypes: float64(1), int64(1)\n",
      "memory usage: 464.0 bytes\n"
     ]
    }
   ],
   "source": [
    "data.info()"
   ]
  },
  {
   "cell_type": "code",
   "execution_count": 6,
   "metadata": {},
   "outputs": [
    {
     "data": {
      "text/html": [
       "<style  type=\"text/css\" >\n",
       "#T_acdb51af_3b25_11eb_95fb_98e7f4f73c3drow0_col0,#T_acdb51af_3b25_11eb_95fb_98e7f4f73c3drow7_col1{\n",
       "            background-color:  #008066;\n",
       "            color:  #f1f1f1;\n",
       "        }#T_acdb51af_3b25_11eb_95fb_98e7f4f73c3drow0_col1{\n",
       "            background-color:  #e5f266;\n",
       "            color:  #000000;\n",
       "        }#T_acdb51af_3b25_11eb_95fb_98e7f4f73c3drow1_col0{\n",
       "            background-color:  #d6eb66;\n",
       "            color:  #000000;\n",
       "        }#T_acdb51af_3b25_11eb_95fb_98e7f4f73c3drow1_col1{\n",
       "            background-color:  #8ec666;\n",
       "            color:  #000000;\n",
       "        }#T_acdb51af_3b25_11eb_95fb_98e7f4f73c3drow2_col0{\n",
       "            background-color:  #f0f866;\n",
       "            color:  #000000;\n",
       "        }#T_acdb51af_3b25_11eb_95fb_98e7f4f73c3drow2_col1{\n",
       "            background-color:  #e4f266;\n",
       "            color:  #000000;\n",
       "        }#T_acdb51af_3b25_11eb_95fb_98e7f4f73c3drow3_col0,#T_acdb51af_3b25_11eb_95fb_98e7f4f73c3drow3_col1{\n",
       "            background-color:  #ffff66;\n",
       "            color:  #000000;\n",
       "        }#T_acdb51af_3b25_11eb_95fb_98e7f4f73c3drow4_col0{\n",
       "            background-color:  #eef666;\n",
       "            color:  #000000;\n",
       "        }#T_acdb51af_3b25_11eb_95fb_98e7f4f73c3drow4_col1{\n",
       "            background-color:  #d5ea66;\n",
       "            color:  #000000;\n",
       "        }#T_acdb51af_3b25_11eb_95fb_98e7f4f73c3drow5_col0{\n",
       "            background-color:  #d8ec66;\n",
       "            color:  #000000;\n",
       "        }#T_acdb51af_3b25_11eb_95fb_98e7f4f73c3drow5_col1{\n",
       "            background-color:  #9dce66;\n",
       "            color:  #000000;\n",
       "        }#T_acdb51af_3b25_11eb_95fb_98e7f4f73c3drow6_col0{\n",
       "            background-color:  #bcde66;\n",
       "            color:  #000000;\n",
       "        }#T_acdb51af_3b25_11eb_95fb_98e7f4f73c3drow6_col1{\n",
       "            background-color:  #41a066;\n",
       "            color:  #000000;\n",
       "        }#T_acdb51af_3b25_11eb_95fb_98e7f4f73c3drow7_col0{\n",
       "            background-color:  #a9d466;\n",
       "            color:  #000000;\n",
       "        }</style><table id=\"T_acdb51af_3b25_11eb_95fb_98e7f4f73c3d\" ><thead>    <tr>        <th class=\"blank level0\" ></th>        <th class=\"col_heading level0 col0\" >Hours</th>        <th class=\"col_heading level0 col1\" >Scores</th>    </tr></thead><tbody>\n",
       "                <tr>\n",
       "                        <th id=\"T_acdb51af_3b25_11eb_95fb_98e7f4f73c3dlevel0_row0\" class=\"row_heading level0 row0\" >count</th>\n",
       "                        <td id=\"T_acdb51af_3b25_11eb_95fb_98e7f4f73c3drow0_col0\" class=\"data row0 col0\" >25.000000</td>\n",
       "                        <td id=\"T_acdb51af_3b25_11eb_95fb_98e7f4f73c3drow0_col1\" class=\"data row0 col1\" >25.000000</td>\n",
       "            </tr>\n",
       "            <tr>\n",
       "                        <th id=\"T_acdb51af_3b25_11eb_95fb_98e7f4f73c3dlevel0_row1\" class=\"row_heading level0 row1\" >mean</th>\n",
       "                        <td id=\"T_acdb51af_3b25_11eb_95fb_98e7f4f73c3drow1_col0\" class=\"data row1 col0\" >5.012000</td>\n",
       "                        <td id=\"T_acdb51af_3b25_11eb_95fb_98e7f4f73c3drow1_col1\" class=\"data row1 col1\" >51.480000</td>\n",
       "            </tr>\n",
       "            <tr>\n",
       "                        <th id=\"T_acdb51af_3b25_11eb_95fb_98e7f4f73c3dlevel0_row2\" class=\"row_heading level0 row2\" >std</th>\n",
       "                        <td id=\"T_acdb51af_3b25_11eb_95fb_98e7f4f73c3drow2_col0\" class=\"data row2 col0\" >2.525094</td>\n",
       "                        <td id=\"T_acdb51af_3b25_11eb_95fb_98e7f4f73c3drow2_col1\" class=\"data row2 col1\" >25.286887</td>\n",
       "            </tr>\n",
       "            <tr>\n",
       "                        <th id=\"T_acdb51af_3b25_11eb_95fb_98e7f4f73c3dlevel0_row3\" class=\"row_heading level0 row3\" >min</th>\n",
       "                        <td id=\"T_acdb51af_3b25_11eb_95fb_98e7f4f73c3drow3_col0\" class=\"data row3 col0\" >1.100000</td>\n",
       "                        <td id=\"T_acdb51af_3b25_11eb_95fb_98e7f4f73c3drow3_col1\" class=\"data row3 col1\" >17.000000</td>\n",
       "            </tr>\n",
       "            <tr>\n",
       "                        <th id=\"T_acdb51af_3b25_11eb_95fb_98e7f4f73c3dlevel0_row4\" class=\"row_heading level0 row4\" >25%</th>\n",
       "                        <td id=\"T_acdb51af_3b25_11eb_95fb_98e7f4f73c3drow4_col0\" class=\"data row4 col0\" >2.700000</td>\n",
       "                        <td id=\"T_acdb51af_3b25_11eb_95fb_98e7f4f73c3drow4_col1\" class=\"data row4 col1\" >30.000000</td>\n",
       "            </tr>\n",
       "            <tr>\n",
       "                        <th id=\"T_acdb51af_3b25_11eb_95fb_98e7f4f73c3dlevel0_row5\" class=\"row_heading level0 row5\" >50%</th>\n",
       "                        <td id=\"T_acdb51af_3b25_11eb_95fb_98e7f4f73c3drow5_col0\" class=\"data row5 col0\" >4.800000</td>\n",
       "                        <td id=\"T_acdb51af_3b25_11eb_95fb_98e7f4f73c3drow5_col1\" class=\"data row5 col1\" >47.000000</td>\n",
       "            </tr>\n",
       "            <tr>\n",
       "                        <th id=\"T_acdb51af_3b25_11eb_95fb_98e7f4f73c3dlevel0_row6\" class=\"row_heading level0 row6\" >75%</th>\n",
       "                        <td id=\"T_acdb51af_3b25_11eb_95fb_98e7f4f73c3drow6_col0\" class=\"data row6 col0\" >7.400000</td>\n",
       "                        <td id=\"T_acdb51af_3b25_11eb_95fb_98e7f4f73c3drow6_col1\" class=\"data row6 col1\" >75.000000</td>\n",
       "            </tr>\n",
       "            <tr>\n",
       "                        <th id=\"T_acdb51af_3b25_11eb_95fb_98e7f4f73c3dlevel0_row7\" class=\"row_heading level0 row7\" >max</th>\n",
       "                        <td id=\"T_acdb51af_3b25_11eb_95fb_98e7f4f73c3drow7_col0\" class=\"data row7 col0\" >9.200000</td>\n",
       "                        <td id=\"T_acdb51af_3b25_11eb_95fb_98e7f4f73c3drow7_col1\" class=\"data row7 col1\" >95.000000</td>\n",
       "            </tr>\n",
       "    </tbody></table>"
      ],
      "text/plain": [
       "<pandas.io.formats.style.Styler at 0x37054f0>"
      ]
     },
     "execution_count": 6,
     "metadata": {},
     "output_type": "execute_result"
    }
   ],
   "source": [
    "data.describe().style.background_gradient(cmap='summer_r')"
   ]
  },
  {
   "cell_type": "code",
   "execution_count": 9,
   "metadata": {},
   "outputs": [
    {
     "name": "stderr",
     "output_type": "stream",
     "text": [
      "C:\\Users\\shan pc\\anaconda3\\lib\\site-packages\\seaborn\\distributions.py:2551: FutureWarning: `distplot` is a deprecated function and will be removed in a future version. Please adapt your code to use either `displot` (a figure-level function with similar flexibility) or `histplot` (an axes-level function for histograms).\n",
      "  warnings.warn(msg, FutureWarning)\n"
     ]
    },
    {
     "data": {
      "text/plain": [
       "<AxesSubplot:xlabel='Scores', ylabel='Density'>"
      ]
     },
     "execution_count": 9,
     "metadata": {},
     "output_type": "execute_result"
    },
    {
     "data": {
      "image/png": "[encoded data removed]",
      "text/plain": [
       "<Figure size 720x360 with 1 Axes>"
      ]
     },
     "metadata": {
      "needs_background": "light"
     },
     "output_type": "display_data"
    }
   ],
   "source": [
    "#Plotting Distribution of Scores\n",
    "plt.rcParams['figure.figsize']=(10,5)\n",
    "sns.distplot(data['Scores']) "
   ]
  },
  {
   "cell_type": "code",
   "execution_count": 8,
   "metadata": {},
   "outputs": [
    {
     "ename": "NameError",
     "evalue": "name 's_data' is not defined",
     "output_type": "error",
     "traceback": [
      "\u001b[1;31m---------------------------------------------------------------------------\u001b[0m",
      "\u001b[1;31mNameError\u001b[0m                                 Traceback (most recent call last)",
      "\u001b[1;32m<ipython-input-8-521076b05ceb>\u001b[0m in \u001b[0;36m<module>\u001b[1;34m\u001b[0m\n\u001b[1;32m----> 1\u001b[1;33m \u001b[0msns\u001b[0m\u001b[1;33m.\u001b[0m\u001b[0mheatmap\u001b[0m\u001b[1;33m(\u001b[0m\u001b[0ms_data\u001b[0m\u001b[1;33m.\u001b[0m\u001b[0mcorr\u001b[0m\u001b[1;33m(\u001b[0m\u001b[1;33m)\u001b[0m\u001b[1;33m,\u001b[0m \u001b[0mannot\u001b[0m\u001b[1;33m=\u001b[0m\u001b[1;32mTrue\u001b[0m\u001b[1;33m)\u001b[0m\u001b[1;33m\u001b[0m\u001b[1;33m\u001b[0m\u001b[0m\n\u001b[0m",
      "\u001b[1;31mNameError\u001b[0m: name 's_data' is not defined"
     ]
    }
   ],
   "source": [
    "sns.heatmap(s_data.corr(), annot=True)"
   ]
  },
  {
   "cell_type": "markdown",
   "metadata": {},
   "source": [
    "## Plotting distribution of scores"
   ]
  },
  {
   "cell_type": "code",
   "execution_count": 120,
   "metadata": {},
   "outputs": [
    {
     "data": {
      "image/png": "[encoded data removed]",
      "text/plain": [
       "<Figure size 720x360 with 1 Axes>"
      ]
     },
     "metadata": {
      "needs_background": "light"
     },
     "output_type": "display_data"
    }
   ],
   "source": [
    "s_data.plot(x='Hours', y='Scores',style='+')  \n",
    "plt.title('Hours vs Percentage')  \n",
    "plt.xlabel('Hours Studied')  \n",
    "plt.ylabel('Percentage Score')  \n",
    "plt.show()"
   ]
  },
  {
   "cell_type": "markdown",
   "metadata": {},
   "source": [
    "## Preparing the Data"
   ]
  },
  {
   "cell_type": "markdown",
   "metadata": {},
   "source": [
    "#### Dividing the data into \"attributes\" (inputs) and \"labels\" (outputs)"
   ]
  },
  {
   "cell_type": "code",
   "execution_count": 111,
   "metadata": {},
   "outputs": [],
   "source": [
    "X = s_data.iloc[:, :-1].values  \n",
    "y = s_data.iloc[:, 1].values  "
   ]
  },
  {
   "cell_type": "markdown",
   "metadata": {},
   "source": [
    " #### Splitting the data into training and test sets."
   ]
  },
  {
   "cell_type": "code",
   "execution_count": 112,
   "metadata": {},
   "outputs": [],
   "source": [
    "from sklearn.model_selection import train_test_split  \n",
    "X_train, X_test, y_train, y_test = train_test_split(X, y, \n",
    "                            test_size=0.2, random_state=0) "
   ]
  },
  {
   "cell_type": "markdown",
   "metadata": {},
   "source": [
    "## Training the model\n",
    "#### Algorithm: Linear Regression\n",
    "Simple Linear Regression Algorithm is used as the dataset contains only two columns"
   ]
  },
  {
   "cell_type": "code",
   "execution_count": 113,
   "metadata": {},
   "outputs": [
    {
     "name": "stdout",
     "output_type": "stream",
     "text": [
      "Training complete.\n"
     ]
    }
   ],
   "source": [
    "from sklearn.linear_model import LinearRegression  \n",
    "regressor = LinearRegression()  \n",
    "regressor.fit(X_train, y_train) \n",
    "\n",
    "print(\"Training complete.\")"
   ]
  },
  {
   "cell_type": "markdown",
   "metadata": {},
   "source": [
    " #### Plotting the regression line"
   ]
  },
  {
   "cell_type": "code",
   "execution_count": 122,
   "metadata": {},
   "outputs": [
    {
     "data": {
      "image/png": "[encoded data removed]",
      "text/plain": [
       "<Figure size 720x360 with 1 Axes>"
      ]
     },
     "metadata": {
      "needs_background": "light"
     },
     "output_type": "display_data"
    }
   ],
   "source": [
    "line = regressor.coef_*X+regressor.intercept_\n",
    "\n",
    "# Plotting for the test data\n",
    "plt.scatter(X, y)\n",
    "plt.plot(X, line);\n",
    "plt.show()"
   ]
  },
  {
   "cell_type": "markdown",
   "metadata": {},
   "source": [
    "## Testing the algorithm"
   ]
  },
  {
   "cell_type": "code",
   "execution_count": 123,
   "metadata": {},
   "outputs": [
    {
     "name": "stdout",
     "output_type": "stream",
     "text": [
      "[[1.5]\n",
      " [3.2]\n",
      " [7.4]\n",
      " [2.5]\n",
      " [5.9]]\n"
     ]
    }
   ],
   "source": [
    "print(X_test) # Testing data - In Hours\n",
    "y_pred = regressor.predict(X_test) # Predicting the scores"
   ]
  },
  {
   "cell_type": "code",
   "execution_count": 124,
   "metadata": {},
   "outputs": [
    {
     "data": {
      "text/html": [
       "<style  type=\"text/css\" >\n",
       "    #T_e4258d3c_f5c2_11ea_85c3_8c164537a935row0_col0 {\n",
       "            background-color:  #ffff66;\n",
       "            color:  #000000;\n",
       "        }    #T_e4258d3c_f5c2_11ea_85c3_8c164537a935row0_col1 {\n",
       "            background-color:  #ffff66;\n",
       "            color:  #000000;\n",
       "        }    #T_e4258d3c_f5c2_11ea_85c3_8c164537a935row1_col0 {\n",
       "            background-color:  #dbed66;\n",
       "            color:  #000000;\n",
       "        }    #T_e4258d3c_f5c2_11ea_85c3_8c164537a935row1_col1 {\n",
       "            background-color:  #b6db66;\n",
       "            color:  #000000;\n",
       "        }    #T_e4258d3c_f5c2_11ea_85c3_8c164537a935row2_col0 {\n",
       "            background-color:  #008066;\n",
       "            color:  #f1f1f1;\n",
       "        }    #T_e4258d3c_f5c2_11ea_85c3_8c164537a935row2_col1 {\n",
       "            background-color:  #008066;\n",
       "            color:  #f1f1f1;\n",
       "        }    #T_e4258d3c_f5c2_11ea_85c3_8c164537a935row3_col0 {\n",
       "            background-color:  #cbe566;\n",
       "            color:  #000000;\n",
       "        }    #T_e4258d3c_f5c2_11ea_85c3_8c164537a935row3_col1 {\n",
       "            background-color:  #d4ea66;\n",
       "            color:  #000000;\n",
       "        }    #T_e4258d3c_f5c2_11ea_85c3_8c164537a935row4_col0 {\n",
       "            background-color:  #249266;\n",
       "            color:  #000000;\n",
       "        }    #T_e4258d3c_f5c2_11ea_85c3_8c164537a935row4_col1 {\n",
       "            background-color:  #41a066;\n",
       "            color:  #000000;\n",
       "        }</style><table id=\"T_e4258d3c_f5c2_11ea_85c3_8c164537a935\" ><thead>    <tr>        <th class=\"blank level0\" ></th>        <th class=\"col_heading level0 col0\" >Actual</th>        <th class=\"col_heading level0 col1\" >Predicted</th>    </tr></thead><tbody>\n",
       "                <tr>\n",
       "                        <th id=\"T_e4258d3c_f5c2_11ea_85c3_8c164537a935level0_row0\" class=\"row_heading level0 row0\" >0</th>\n",
       "                        <td id=\"T_e4258d3c_f5c2_11ea_85c3_8c164537a935row0_col0\" class=\"data row0 col0\" >20</td>\n",
       "                        <td id=\"T_e4258d3c_f5c2_11ea_85c3_8c164537a935row0_col1\" class=\"data row0 col1\" >16.884145</td>\n",
       "            </tr>\n",
       "            <tr>\n",
       "                        <th id=\"T_e4258d3c_f5c2_11ea_85c3_8c164537a935level0_row1\" class=\"row_heading level0 row1\" >1</th>\n",
       "                        <td id=\"T_e4258d3c_f5c2_11ea_85c3_8c164537a935row1_col0\" class=\"data row1 col0\" >27</td>\n",
       "                        <td id=\"T_e4258d3c_f5c2_11ea_85c3_8c164537a935row1_col1\" class=\"data row1 col1\" >33.732261</td>\n",
       "            </tr>\n",
       "            <tr>\n",
       "                        <th id=\"T_e4258d3c_f5c2_11ea_85c3_8c164537a935level0_row2\" class=\"row_heading level0 row2\" >2</th>\n",
       "                        <td id=\"T_e4258d3c_f5c2_11ea_85c3_8c164537a935row2_col0\" class=\"data row2 col0\" >69</td>\n",
       "                        <td id=\"T_e4258d3c_f5c2_11ea_85c3_8c164537a935row2_col1\" class=\"data row2 col1\" >75.357018</td>\n",
       "            </tr>\n",
       "            <tr>\n",
       "                        <th id=\"T_e4258d3c_f5c2_11ea_85c3_8c164537a935level0_row3\" class=\"row_heading level0 row3\" >3</th>\n",
       "                        <td id=\"T_e4258d3c_f5c2_11ea_85c3_8c164537a935row3_col0\" class=\"data row3 col0\" >30</td>\n",
       "                        <td id=\"T_e4258d3c_f5c2_11ea_85c3_8c164537a935row3_col1\" class=\"data row3 col1\" >26.794801</td>\n",
       "            </tr>\n",
       "            <tr>\n",
       "                        <th id=\"T_e4258d3c_f5c2_11ea_85c3_8c164537a935level0_row4\" class=\"row_heading level0 row4\" >4</th>\n",
       "                        <td id=\"T_e4258d3c_f5c2_11ea_85c3_8c164537a935row4_col0\" class=\"data row4 col0\" >62</td>\n",
       "                        <td id=\"T_e4258d3c_f5c2_11ea_85c3_8c164537a935row4_col1\" class=\"data row4 col1\" >60.491033</td>\n",
       "            </tr>\n",
       "    </tbody></table>"
      ],
      "text/plain": [
       "<pandas.io.formats.style.Styler at 0x1eba290ff70>"
      ]
     },
     "execution_count": 124,
     "metadata": {},
     "output_type": "execute_result"
    }
   ],
   "source": [
    "# Comparing Actual vs Predicted\n",
    "df = pd.DataFrame({'Actual': y_test, 'Predicted': y_pred}).style.background_gradient(cmap='summer_r')  \n",
    "df "
   ]
  },
  {
   "cell_type": "markdown",
   "metadata": {},
   "source": [
    "###  Evaluating the performance of the model\n",
    "This step is particularly important to compare how well different algorithms perform on a particular dataset. Here, I have chosen the mean square error."
   ]
  },
  {
   "cell_type": "code",
   "execution_count": 126,
   "metadata": {},
   "outputs": [
    {
     "name": "stdout",
     "output_type": "stream",
     "text": [
      "Mean Absolute Error: 4.183859899002975\n"
     ]
    }
   ],
   "source": [
    "from sklearn import metrics  \n",
    "print('Mean Absolute Error:', \n",
    "      metrics.mean_absolute_error(y_test, y_pred)) "
   ]
  },
  {
   "cell_type": "markdown",
   "metadata": {},
   "source": [
    "### Predicting Score for 9.25 hours"
   ]
  },
  {
   "cell_type": "code",
   "execution_count": 127,
   "metadata": {},
   "outputs": [
    {
     "name": "stdout",
     "output_type": "stream",
     "text": [
      "No of Hours = [[9.25]]\n",
      "Predicted Score = 93.69173248737538\n"
     ]
    }
   ],
   "source": [
    "# You can also test with your own data\n",
    "hours = np.array([9.25])\n",
    "hours=hours.reshape(-1, 1)\n",
    "\n",
    "own_pred = regressor.predict(hours)\n",
    "print(\"No of Hours = {}\".format(hours))\n",
    "print(\"Predicted Score = {}\".format(own_pred[0]))"
   ]
  },
  {
   "cell_type": "code",
   "execution_count": null,
   "metadata": {},
   "outputs": [],
   "source": []
  }
 ],
 "metadata": {
  "kernelspec": {
   "display_name": "Python 3",
   "language": "python",
   "name": "python3"
  },
  "language_info": {
   "codemirror_mode": {
    "name": "ipython",
    "version": 3
   },
   "file_extension": ".py",
   "mimetype": "text/x-python",
   "name": "python",
   "nbconvert_exporter": "python",
   "pygments_lexer": "ipython3",
   "version": "3.8.5"
  }
 },
 "nbformat": 4,
 "nbformat_minor": 4
}
